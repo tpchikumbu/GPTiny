{
 "cells": [
  {
   "cell_type": "markdown",
   "metadata": {},
   "source": [
    "# Setting up the model\n",
    "\n",
    "This section imports the required packages and downloads the data used for training."
   ]
  },
  {
   "cell_type": "code",
   "execution_count": 1,
   "metadata": {},
   "outputs": [],
   "source": [
    "# Imports and setup\n",
    "import os\n",
    "import torch\n",
    "import torch.nn as nn\n",
    "from torch.nn import functional as F\n",
    "\n",
    "# import matplotlib.pyplot as plt"
   ]
  },
  {
   "cell_type": "markdown",
   "metadata": {},
   "source": [
    "Importing copy of required datasets from personal Github repository if not found in current directory."
   ]
  },
  {
   "cell_type": "code",
   "execution_count": 2,
   "metadata": {},
   "outputs": [
    {
     "name": "stdout",
     "output_type": "stream",
     "text": [
      "Searching for data in  /home/peter/Documents/Hons/NLP/GPTiny/LMDatasets\n",
      "Data already downloaded\n"
     ]
    }
   ],
   "source": [
    "# Download the ZIP file using wget\n",
    "ZIP_URL = 'https://github.com/tpchikumbu/GPTiny/archive/main.zip'\n",
    "PROJECT_DIR = os.getcwd() + '/LMDatasets'\n",
    "print('Searching for data in ', PROJECT_DIR)\n",
    "\n",
    "if not os.path.isdir(PROJECT_DIR):\n",
    "\n",
    "  !wget -O \"GPTiny-main.zip\" \"$ZIP_URL\"\n",
    "  # Extract only the specific folder from the ZIP file\n",
    "  !unzip -q \"GPTiny-main.zip\" \"GPTiny-main/LMDatasets/*\" -d \".\"\n",
    "  !mv \"GPTiny-main/LMDatasets\" \".\"\n",
    "\n",
    "  # Remove temporary files\n",
    "  !rm -rf \"GPTiny-main.zip\"\n",
    "  !rm -rf \"GPTiny-main\"\n",
    "\n",
    "else:\n",
    "  print('Data already downloaded')"
   ]
  },
  {
   "cell_type": "markdown",
   "metadata": {},
   "source": [
    "Run to choose a language for the datasets and read them into environment"
   ]
  },
  {
   "cell_type": "code",
   "execution_count": 3,
   "metadata": {},
   "outputs": [
    {
     "name": "stdout",
     "output_type": "stream",
     "text": [
      "Train shape:  6382803\n",
      "Dev shape:  441906\n",
      "Test shape:  444199\n"
     ]
    }
   ],
   "source": [
    "language = \"nr\" # Options include nr, ss, xh, zu\n",
    "file_name = f'{PROJECT_DIR}/nchlt_text.{language}'\n",
    "\n",
    "# Load data\n",
    "with open(file_name + \".train\", 'r', encoding='utf-8') as f:\n",
    "    train_df = f.read()\n",
    "with open(file_name + \".valid\", 'r', encoding='utf-8') as f:\n",
    "    dev_df = f.read()\n",
    "with open(file_name + \".test\", 'r', encoding='utf-8') as f:\n",
    "    test_df = f.read()\n",
    "\n",
    "print('Train shape: ', len(train_df))\n",
    "print('Dev shape: ', len(dev_df))\n",
    "print('Test shape: ', len(test_df))"
   ]
  }
 ],
 "metadata": {
  "kernelspec": {
   "display_name": "Python 3",
   "language": "python",
   "name": "python3"
  },
  "language_info": {
   "codemirror_mode": {
    "name": "ipython",
    "version": 3
   },
   "file_extension": ".py",
   "mimetype": "text/x-python",
   "name": "python",
   "nbconvert_exporter": "python",
   "pygments_lexer": "ipython3",
   "version": "3.10.12"
  }
 },
 "nbformat": 4,
 "nbformat_minor": 2
}
