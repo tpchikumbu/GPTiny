{
 "cells": [
  {
   "cell_type": "code",
   "execution_count": 1,
   "metadata": {},
   "outputs": [],
   "source": [
    "# Imports and setup\n",
    "import os\n",
    "import pandas as pd"
   ]
  },
  {
   "cell_type": "markdown",
   "metadata": {},
   "source": [
    "Importing required datasets"
   ]
  },
  {
   "cell_type": "code",
   "execution_count": 2,
   "metadata": {},
   "outputs": [
    {
     "name": "stdout",
     "output_type": "stream",
     "text": [
      "Current directiory:  /home/peter/Documents/Hons/NLP/GPTiny/LMDatasets\n",
      "/home/peter/Documents/Hons/NLP/GPTiny/LMDatasets\n",
      "From https://github.com/tpchikumbu/GPTiny\n",
      " * branch            HEAD       -> FETCH_HEAD\n",
      "Already up to date.\n"
     ]
    }
   ],
   "source": [
    "# Downlad African language datasets\n",
    "\n",
    "PROJECT_DIR = os.getcwd() + '/LMDatasets'\n",
    "print('Current directiory: ', PROJECT_DIR)\n",
    "PROJECT_GITHUB_URL = 'https://github.com/tpchikumbu/GPTiny.git'\n",
    "\n",
    "if not os.path.isdir(PROJECT_DIR):\n",
    "  !git clone {PROJECT_GITHUB_URL}\n",
    "else:\n",
    "  %cd {PROJECT_DIR}\n",
    "  !git pull {PROJECT_GITHUB_URL}"
   ]
  },
  {
   "cell_type": "markdown",
   "metadata": {},
   "source": [
    "Choosing language for to train and test on"
   ]
  },
  {
   "cell_type": "code",
   "execution_count": 8,
   "metadata": {},
   "outputs": [
    {
     "name": "stdout",
     "output_type": "stream",
     "text": [
      "Train shape:  6382803\n",
      "Dev shape:  441906\n",
      "Test shape:  444199\n",
      "First 1000: \n",
      " Funda umhlahlandlela wokwenza isibawo ekhasini le-7 ngokutjheja, ngombana umumethe ilwazi eliqakathekileko elizokusiza ekuzaliseni iforomo lesibawo ngefanelo.\n",
      "Zalisa iforomo lesibawo ekhasini elilandelako bewuqinisekise kobana ufake yoke imitlolo efaneleko begodu utlikitle endaweni efaneleko.\n",
      "ukufunyana imininingwana ezeleko.\n",
      "Qinisekisa kobana ufaka yoke imitlolo efunekako engezelelako.\n",
      "Sibawa uqale esigabeni b ekhasini le-7 lomhlahlandlela wesibawo ukuqinisekisa kobana abantu ofuna ukubakhetha njengabantu abondliwa nguwe bakulungele lokho na.\n",
      "Sibawa ukhethe INZUZO YINYE KWAPHELA erhelweni elingaphasi bewutshwaye ibhlogo efaneleko ngo X.\n",
      "Zoke izibizo ezibhadelwako zenziwa ngesilinganiso sesiKimu ngokuya ngemithetho yesiKimu.\n",
      "Abenziimbawo abasebenzako: Sibawa utjho umrholo wakho wenyanga.\n",
      "Nangabe usezingeni eliphakathi namkha eliphezulu lokuphatha, sibawa utjho umrholo wakho opheleleko wenyanga.\n",
      "Faka ipheyisilibhu yanjesi namkha incwadi yokuqatjhwa nangabe umsebenzi omutjha.\n",
      "Sibawa utjh\n"
     ]
    }
   ],
   "source": [
    "language = \"nr\" # Options include nr, ss, xh, zu\n",
    "file_name = f'{PROJECT_DIR}/nchlt_text.{language}'\n",
    "\n",
    "# Load data\n",
    "with open(file_name + \".train\", 'r', encoding='utf-8') as f:\n",
    "    train_df = f.read()\n",
    "with open(file_name + \".valid\", 'r', encoding='utf-8') as f:\n",
    "    dev_df = f.read()\n",
    "with open(file_name + \".test\", 'r', encoding='utf-8') as f:\n",
    "    test_df = f.read()\n",
    "\n",
    "\n",
    "\n",
    "#train_df = pd.read_csv(f'{PROJECT_DIR}/nchlt_text.{language}.train')\n",
    "#dev_df = pd.read_csv(f'{PROJECT_DIR}/nchlt_text.{language}.valid')\n",
    "#test_df = pd.read_csv(f'{PROJECT_DIR}/nchlt_text.{language}.test')\n",
    "\n",
    "print('Train shape: ', len(train_df))\n",
    "print('Dev shape: ', len(dev_df))\n",
    "print('Test shape: ', len(test_df))\n",
    "\n",
    "# Display data\n",
    "print(\"First 1000: \\n\", train_df[:1000])"
   ]
  }
 ],
 "metadata": {
  "kernelspec": {
   "display_name": "Python 3",
   "language": "python",
   "name": "python3"
  },
  "language_info": {
   "codemirror_mode": {
    "name": "ipython",
    "version": 3
   },
   "file_extension": ".py",
   "mimetype": "text/x-python",
   "name": "python",
   "nbconvert_exporter": "python",
   "pygments_lexer": "ipython3",
   "version": "3.10.12"
  }
 },
 "nbformat": 4,
 "nbformat_minor": 2
}
